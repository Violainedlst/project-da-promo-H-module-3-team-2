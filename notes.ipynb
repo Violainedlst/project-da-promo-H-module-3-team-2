{
 "cells": [
  {
   "cell_type": "code",
   "execution_count": 2,
   "metadata": {},
   "outputs": [],
   "source": [
    "from os import stat\n",
    "from tkinter import * \n",
    "from tkinter import ttk,Toplevel, Frame, Label, Button\n",
    "from tkinter import messagebox as Msg\n",
    "from tkinter import filedialog as FileDialog\n",
    "from PIL import Image, ImageTk\n",
    "from conexion import  DAO\n",
    "import queries as qu\n",
    "import pandas as pd\n",
    "import numpy as np\n",
    "import convertir_int32\n",
    "import subprocess\n",
    "import os\n"
   ]
  },
  {
   "cell_type": "code",
   "execution_count": 3,
   "metadata": {},
   "outputs": [],
   "source": [
    "csv =r\"D:\\Repositorios Adalab\\proyecto-da-promo-H-modulo-3-team-2-People-pulse\\HR_RAW_DATA_LIMPIO.csv\"\n",
    "df =pd.read_csv(csv,index_col=0)\n",
    "df.fillna('n/a', inplace=True)"
   ]
  },
  {
   "cell_type": "code",
   "execution_count": 4,
   "metadata": {},
   "outputs": [
    {
     "data": {
      "text/plain": [
       "Index(['age', 'attrition', 'business_travel', 'daily_rate', 'department',\n",
       "       'distance_from_home', 'education', 'education_field', 'employee_number',\n",
       "       'environment_satisfaction', 'gender', 'hourly_rate', 'job_involvement',\n",
       "       'job_level', 'job_role', 'job_satisfaction', 'marital_status',\n",
       "       'monthly_income', 'monthly_rate', 'num_companies_worked', 'overtime',\n",
       "       'percent_salary_hike', 'relationship_satisfaction',\n",
       "       'stock_option_level', 'total_working_years', 'training_times_last_year',\n",
       "       'work_life_balance', 'years_at_company', 'years_since_last_promotion',\n",
       "       'years_with_curr_manager', 'year_birth', 'role_department',\n",
       "       'remote_work'],\n",
       "      dtype='object')"
      ]
     },
     "execution_count": 4,
     "metadata": {},
     "output_type": "execute_result"
    }
   ],
   "source": [
    "df.columns"
   ]
  },
  {
   "cell_type": "code",
   "execution_count": 12,
   "metadata": {},
   "outputs": [
    {
     "data": {
      "text/plain": [
       "0        162\n",
       "1        259\n",
       "2        319\n",
       "3       1000\n",
       "5       1900\n",
       "        ... \n",
       "1463    1966\n",
       "1464    1974\n",
       "1466    2012\n",
       "1468    2023\n",
       "1469    2040\n",
       "Name: employee_number, Length: 1080, dtype: int64"
      ]
     },
     "execution_count": 12,
     "metadata": {},
     "output_type": "execute_result"
    }
   ],
   "source": [
    "df[\"employee_number\"].drop_duplicates()"
   ]
  },
  {
   "cell_type": "code",
   "execution_count": 13,
   "metadata": {},
   "outputs": [
    {
     "data": {
      "text/plain": [
       "0        162\n",
       "1        259\n",
       "2        319\n",
       "3       1000\n",
       "4       1000\n",
       "        ... \n",
       "1609     967\n",
       "1610     972\n",
       "1611    1000\n",
       "1612     990\n",
       "1613    1000\n",
       "Name: employee_number, Length: 1614, dtype: int64"
      ]
     },
     "execution_count": 13,
     "metadata": {},
     "output_type": "execute_result"
    }
   ],
   "source": [
    "df[\"employee_number\"]"
   ]
  },
  {
   "cell_type": "code",
   "execution_count": 14,
   "metadata": {},
   "outputs": [
    {
     "name": "stdout",
     "output_type": "stream",
     "text": [
      "<class 'pandas.core.frame.DataFrame'>\n",
      "Index: 1614 entries, 0 to 1613\n",
      "Data columns (total 33 columns):\n",
      " #   Column                      Non-Null Count  Dtype \n",
      "---  ------                      --------------  ----- \n",
      " 0   age                         1614 non-null   int64 \n",
      " 1   attrition                   1614 non-null   object\n",
      " 2   business_travel             1614 non-null   object\n",
      " 3   daily_rate                  1614 non-null   int64 \n",
      " 4   department                  1614 non-null   object\n",
      " 5   distance_from_home          1614 non-null   int64 \n",
      " 6   education                   1614 non-null   int64 \n",
      " 7   education_field             1614 non-null   object\n",
      " 8   employee_number             1614 non-null   int64 \n",
      " 9   environment_satisfaction    1614 non-null   int64 \n",
      " 10  gender                      1614 non-null   object\n",
      " 11  hourly_rate                 1614 non-null   int64 \n",
      " 12  job_involvement             1614 non-null   int64 \n",
      " 13  job_level                   1614 non-null   int64 \n",
      " 14  job_role                    1614 non-null   object\n",
      " 15  job_satisfaction            1614 non-null   int64 \n",
      " 16  marital_status              1614 non-null   object\n",
      " 17  monthly_income              1614 non-null   int64 \n",
      " 18  monthly_rate                1614 non-null   int64 \n",
      " 19  num_companies_worked        1614 non-null   int64 \n",
      " 20  overtime                    1614 non-null   object\n",
      " 21  percent_salary_hike         1614 non-null   int64 \n",
      " 22  relationship_satisfaction   1614 non-null   int64 \n",
      " 23  stock_option_level          1614 non-null   int64 \n",
      " 24  total_working_years         1614 non-null   int64 \n",
      " 25  training_times_last_year    1614 non-null   int64 \n",
      " 26  work_life_balance           1614 non-null   int64 \n",
      " 27  years_at_company            1614 non-null   int64 \n",
      " 28  years_since_last_promotion  1614 non-null   int64 \n",
      " 29  years_with_curr_manager     1614 non-null   int64 \n",
      " 30  year_birth                  1614 non-null   int64 \n",
      " 31  role_department             1614 non-null   object\n",
      " 32  remote_work                 1614 non-null   object\n",
      "dtypes: int64(23), object(10)\n",
      "memory usage: 428.7+ KB\n"
     ]
    }
   ],
   "source": [
    "df.info()"
   ]
  }
 ],
 "metadata": {
  "kernelspec": {
   "display_name": "Python 3",
   "language": "python",
   "name": "python3"
  },
  "language_info": {
   "codemirror_mode": {
    "name": "ipython",
    "version": 3
   },
   "file_extension": ".py",
   "mimetype": "text/x-python",
   "name": "python",
   "nbconvert_exporter": "python",
   "pygments_lexer": "ipython3",
   "version": "3.12.3"
  }
 },
 "nbformat": 4,
 "nbformat_minor": 2
}
