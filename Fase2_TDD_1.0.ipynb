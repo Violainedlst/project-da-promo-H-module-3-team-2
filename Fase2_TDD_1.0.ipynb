{
 "cells": [
  {
   "cell_type": "markdown",
   "metadata": {},
   "source": [
    "## Importamos las librerias necesarias"
   ]
  },
  {
   "cell_type": "code",
   "execution_count": null,
   "metadata": {},
   "outputs": [],
   "source": [
    "import pandas as pd"
   ]
  },
  {
   "cell_type": "markdown",
   "metadata": {},
   "source": [
    "## Leemos el fichero csv de Git"
   ]
  },
  {
   "cell_type": "code",
   "execution_count": null,
   "metadata": {},
   "outputs": [],
   "source": [
    "url=\"https://raw.githubusercontent.com/Violainedlst/proyecto-da-promo-H-modulo-3-team-2-People-pulse/main/HR%20RAW%20DATA.csv\"\n",
    "data = pd.read_csv(url)"
   ]
  },
  {
   "cell_type": "markdown",
   "metadata": {},
   "source": [
    "## Sacamos la información de csv para ver los tipos de datos de cada columna"
   ]
  },
  {
   "cell_type": "code",
   "execution_count": null,
   "metadata": {},
   "outputs": [],
   "source": [
    "data.info()"
   ]
  },
  {
   "cell_type": "markdown",
   "metadata": {},
   "source": [
    "## Recorremos las columnas para ver la información que contiene cada una"
   ]
  },
  {
   "cell_type": "code",
   "execution_count": null,
   "metadata": {},
   "outputs": [],
   "source": [
    "for column in data.columns:\n",
    "  \n",
    "    print(f\"Columna: {column}\")\n",
    "    print(data[column].unique())\n",
    "\n",
    "    print(\"\\n--------------------\\n\")"
   ]
  },
  {
   "cell_type": "markdown",
   "metadata": {},
   "source": [
    "## Empezamos a limpiar los datos por columnas\n"
   ]
  },
  {
   "cell_type": "code",
   "execution_count": null,
   "metadata": {},
   "outputs": [],
   "source": [
    "# Convertimos todos los nombres de las columnas a minúsculas\n",
    "data.columns = [column.lower() for column in data.columns]\n",
    "\n",
    "# Modificamos los nombres de las columnas para mejor comprensión lectora\n",
    "data.rename(columns={\n",
    "    'unnamed: 0': 'id',\n",
    "    'age': 'age',\n",
    "    'attrition': 'attrition',\n",
    "    'businesstravel': 'business_travel',\n",
    "    'dailyrate': 'daily_rate',\n",
    "    'department': 'department',\n",
    "    'distancefromhome': 'distance_from_home',\n",
    "    'education': 'education',\n",
    "    'educationfield': 'education_field',\n",
    "    'employeecount': 'employee_count',\n",
    "    'employeenumber': 'employee_number',\n",
    "    'environmentsatisfaction': 'environment_satisfaction',\n",
    "    'gender': 'gender',\n",
    "    'hourlyrate': 'hourly_rate',\n",
    "    'jobinvolvement': 'job_involvement',\n",
    "    'joblevel': 'job_level',\n",
    "    'jobrole': 'job_role',\n",
    "    'jobsatisfaction': 'job_satisfaction',\n",
    "    'maritalstatus': 'marital_status',\n",
    "    'monthlyincome': 'monthly_income',\n",
    "    'monthlyrate': 'monthly_rate',\n",
    "    'numcompaniesworked': 'num_companies_worked',\n",
    "    'over18': 'over_18',\n",
    "    'overtime': 'overtime',\n",
    "    'percentsalaryhike': 'percent_salary_hike',\n",
    "    'performancerating': 'performance_rating',\n",
    "    'relationshipsatisfaction': 'relationship_satisfaction',\n",
    "    'standardhours': 'standard_hours',\n",
    "    'stockoptionlevel': 'stock_option_level',\n",
    "    'totalworkingyears': 'total_working_years',\n",
    "    'trainingtimeslastyear': 'training_times_last_year',\n",
    "    'worklifebalance': 'work_life_balance',\n",
    "    'yearsatcompany': 'years_at_company',\n",
    "    'yearsincurrentrole': 'years_in_current_role',\n",
    "    'yearssincelastpromotion': 'years_since_last_promotion',\n",
    "    'yearswithcurrmanager': 'years_with_curr_manager',\n",
    "    'sameasmonthlyincome': 'same_as_monthly_income',\n",
    "    'datebirth': 'date_birth',\n",
    "    'salary': 'salary',\n",
    "    'roledepartament': 'role_department',\n",
    "    'numberchildren': 'number_children',\n",
    "    'remotework': 'remote_work'\n",
    "}, inplace=True)"
   ]
  },
  {
   "cell_type": "code",
   "execution_count": null,
   "metadata": {},
   "outputs": [],
   "source": [
    "data"
   ]
  },
  {
   "cell_type": "code",
   "execution_count": null,
   "metadata": {},
   "outputs": [],
   "source": [
    "data.info()"
   ]
  },
  {
   "cell_type": "code",
   "execution_count": null,
   "metadata": {},
   "outputs": [],
   "source": [
    "data.to_csv('CSV')"
   ]
  },
  {
   "cell_type": "markdown",
   "metadata": {},
   "source": [
    "### Lo que hay que cambiar de la 0 a la 21"
   ]
  },
  {
   "cell_type": "markdown",
   "metadata": {},
   "source": [
    "- `daily_rate`: quitar símbolo `$` y convertir a `int`"
   ]
  },
  {
   "cell_type": "code",
   "execution_count": null,
   "metadata": {},
   "outputs": [],
   "source": [
    "# Aseguramos que los valores de 'daily_rate' son de tipo string\n",
    "data['daily_rate'] = data['daily_rate'].astype(str)\n",
    "\n",
    "# Lista de símbolos a eliminar en los valores de la columna\n",
    "quitar_simbolos = [' ', '$']\n",
    "\n",
    "# Itera sobre cada símbolo en la lista de símbolos a eliminar\n",
    "for simbolo in quitar_simbolos:\n",
    "    # Elimina el símbolo actual de todos los valores de la columna 'daily_rate'\n",
    "    data['daily_rate'] = data['daily_rate'].str.replace(simbolo, '', regex=False)\n",
    "\n",
    "# Rellena los valores NaN y los valores vacíos con '0'\n",
    "data['daily_rate'] = data['daily_rate'].replace(['nan', ''], '0')\n",
    "\n",
    "# Convierte la columna 'daily_rate' a tipo int, manejando errores\n",
    "data['daily_rate'] = pd.to_numeric(data['daily_rate'], errors='coerce').fillna(0).astype(int)\n",
    "\n",
    "# Muestra las primeras filas del DataFrame para verificar que los valores de la columna se han modificado correctamente\n",
    "data.head(2)\n",
    "\n"
   ]
  },
  {
   "cell_type": "markdown",
   "metadata": {},
   "source": [
    "- `age` es `object` y debería ser `int`\n",
    "- `hourly_rate` aparece como `object` y debería ser `int`\n",
    "- `monthly_income`: convertir a `int`"
   ]
  },
  {
   "cell_type": "code",
   "execution_count": null,
   "metadata": {},
   "outputs": [],
   "source": [
    "columnas3 = ['age', 'hourly_rate', 'monthly_income']\n",
    "\n",
    "# Itera sobre cada columna en la lista de columnas a convertir\n",
    "for columna in columnas3:\n",
    "    # Asegúrate de que los valores de la columna son de tipo string\n",
    "    data[columna] = data[columna].astype(str)\n",
    "    # Elimina cualquier valor no numérico o vacío y reemplaza por 0\n",
    "    data[columna] = data[columna].replace(['nan', '', ' '], '0')\n",
    "    # Convierte la columna a tipo numérico (int)\n",
    "    data[columna] = pd.to_numeric(data[columna], errors='coerce').fillna(0).astype(int)\n",
    "\n",
    "# Muestra las primeras filas del DataFrame para verificar que los valores de las columnas se han modificado correctamente\n",
    "data.head(2)"
   ]
  },
  {
   "cell_type": "markdown",
   "metadata": {},
   "source": [
    "- `employee_number` sale como `float` y debería ser `int`"
   ]
  },
  {
   "cell_type": "code",
   "execution_count": null,
   "metadata": {},
   "outputs": [],
   "source": [
    "# Eliminar caracteres no numéricos de 'employee_number'\n",
    "data['employee_number'] = data['employee_number'].astype(str).str.replace('[^0-9.]', '', regex=True)\n",
    "\n",
    "# Rellenar los valores NaN con 0\n",
    "data['employee_number'] = pd.to_numeric(data['employee_number'], errors='coerce').fillna(0)\n",
    "\n",
    "# Convertir la columna 'employee_number' de float a int\n",
    "data['employee_number'] = data['employee_number'].astype(int)\n",
    "\n",
    "# Mostrar los primeros registros para verificar\n",
    "data.head(2)"
   ]
  },
  {
   "cell_type": "markdown",
   "metadata": {},
   "source": [
    "- cambiar todos los `valores` a `minúsculas`"
   ]
  },
  {
   "cell_type": "code",
   "execution_count": null,
   "metadata": {},
   "outputs": [],
   "source": [
    "# Lista de columnas a convertir a minúsculas de al 0 a la 21\n",
    "columns_to_lower = [\n",
    "    'age', 'attrition', 'business_travel', 'daily_rate', 'department', \n",
    "    'distance_from_home', 'education', 'education_field', 'employee_count', \n",
    "    'employee_number', 'environment_satisfaction', 'gender', 'hourly_rate', \n",
    "    'job_involvement', 'job_level', 'job_role', 'job_satisfaction', \n",
    "    'marital_status', 'monthly_income', 'monthly_rate'\n",
    "]\n",
    "\n",
    "# Convertir a minúsculas las columnas especificadas\n",
    "for column in columns_to_lower:\n",
    "    if data[column].dtype == 'object':  # Verifica si la columna es de tipo str\n",
    "        data[column] = data[column].str.lower()\n",
    "        \n",
    "data.head(5)\n"
   ]
  },
  {
   "cell_type": "markdown",
   "metadata": {},
   "source": [
    "- quitar los `NaN` de las columnas que lo tengan"
   ]
  },
  {
   "cell_type": "code",
   "execution_count": null,
   "metadata": {},
   "outputs": [],
   "source": [
    "# Reemplazar NaN en las columnas especificadas por 'No aplica'\n",
    "columns_to_replace = ['business_travel', 'department', 'education_field', 'marital_status']\n",
    "replacement_value = 'no aplica'\n",
    "\n",
    "data[columns_to_replace] = data[columns_to_replace].fillna(replacement_value)\n",
    "\n",
    "# Mostrar los primeros registros para verificar\n",
    "data.head(2)\n"
   ]
  },
  {
   "cell_type": "markdown",
   "metadata": {},
   "source": [
    "## Creamos un CSV para ver si las columnas de la 0 a la 21 se han limpiado correctamente"
   ]
  },
  {
   "cell_type": "code",
   "execution_count": null,
   "metadata": {},
   "outputs": [],
   "source": [
    "data.to_csv(\"Ejemplo_0_21.csv\")"
   ]
  }
 ],
 "metadata": {
  "kernelspec": {
   "display_name": "base",
   "language": "python",
   "name": "python3"
  },
  "language_info": {
   "codemirror_mode": {
    "name": "ipython",
    "version": 3
   },
   "file_extension": ".py",
   "mimetype": "text/x-python",
   "name": "python",
   "nbconvert_exporter": "python",
   "pygments_lexer": "ipython3",
   "version": "3.9.12"
  }
 },
 "nbformat": 4,
 "nbformat_minor": 2
}
