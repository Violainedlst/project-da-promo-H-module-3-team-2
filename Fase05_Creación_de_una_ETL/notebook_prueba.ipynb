{
 "cells": [
  {
   "cell_type": "code",
   "execution_count": 23,
   "metadata": {},
   "outputs": [],
   "source": [
    "import pandas as pd"
   ]
  },
  {
   "cell_type": "code",
   "execution_count": 22,
   "metadata": {},
   "outputs": [
    {
     "name": "stdout",
     "output_type": "stream",
     "text": [
      "<class 'pandas.core.frame.DataFrame'>\n",
      "Index: 1614 entries, 51 to 46\n",
      "Data columns (total 32 columns):\n",
      " #   Column                      Non-Null Count  Dtype \n",
      "---  ------                      --------------  ----- \n",
      " 0   attrition                   1614 non-null   object\n",
      " 1   business_travel             842 non-null    object\n",
      " 2   daily_rate                  1614 non-null   int64 \n",
      " 3   department                  302 non-null    object\n",
      " 4   distance_from_home          1614 non-null   int64 \n",
      " 5   education                   1614 non-null   int64 \n",
      " 6   education_field             869 non-null    object\n",
      " 7   employee_number             1614 non-null   int64 \n",
      " 8   environment_satisfaction    1614 non-null   int64 \n",
      " 9   gender                      1614 non-null   object\n",
      " 10  hourly_rate                 1614 non-null   int64 \n",
      " 11  job_involvement             1614 non-null   int64 \n",
      " 12  job_level                   1614 non-null   int64 \n",
      " 13  job_role                    1614 non-null   object\n",
      " 14  job_satisfaction            1614 non-null   int64 \n",
      " 15  marital_status              963 non-null    object\n",
      " 16  monthly_income              1614 non-null   int64 \n",
      " 17  monthly_rate                1614 non-null   int64 \n",
      " 18  num_companies_worked        1614 non-null   int64 \n",
      " 19  overtime                    938 non-null    object\n",
      " 20  percent_salary_hike         1614 non-null   int64 \n",
      " 21  relationship_satisfaction   1614 non-null   int64 \n",
      " 22  stock_option_level          1614 non-null   int64 \n",
      " 23  total_working_years         1614 non-null   int64 \n",
      " 24  training_times_last_year    1614 non-null   int64 \n",
      " 25  work_life_balance           1614 non-null   int64 \n",
      " 26  years_at_company            1614 non-null   int64 \n",
      " 27  years_since_last_promotion  1614 non-null   int64 \n",
      " 28  years_with_curr_manager     1614 non-null   int64 \n",
      " 29  year_birth                  1614 non-null   int64 \n",
      " 30  role_department             302 non-null    object\n",
      " 31  remote_work                 1614 non-null   object\n",
      "dtypes: int64(22), object(10)\n",
      "memory usage: 416.1+ KB\n",
      "None\n"
     ]
    }
   ],
   "source": [
    "url =\"https://raw.githubusercontent.com/Violainedlst/proyecto-da-promo-H-modulo-3-team-2-People-pulse/main/CSVs/datos_limpios.csv\"\n",
    "df =pd.read_csv(url,index_col=0)\n",
    "print(df.info())"
   ]
  },
  {
   "cell_type": "code",
   "execution_count": 24,
   "metadata": {},
   "outputs": [
    {
     "name": "stdout",
     "output_type": "stream",
     "text": [
      "<class 'pandas.core.frame.DataFrame'>\n",
      "Index: 1614 entries, 51 to 46\n",
      "Data columns (total 32 columns):\n",
      " #   Column                      Non-Null Count  Dtype \n",
      "---  ------                      --------------  ----- \n",
      " 0   attrition                   1614 non-null   object\n",
      " 1   business_travel             842 non-null    object\n",
      " 2   daily_rate                  1614 non-null   int64 \n",
      " 3   department                  302 non-null    object\n",
      " 4   distance_from_home          1614 non-null   int64 \n",
      " 5   education                   1614 non-null   int64 \n",
      " 6   education_field             869 non-null    object\n",
      " 7   employee_number             1614 non-null   int64 \n",
      " 8   environment_satisfaction    1614 non-null   int64 \n",
      " 9   gender                      1614 non-null   object\n",
      " 10  hourly_rate                 1614 non-null   int64 \n",
      " 11  job_involvement             1614 non-null   int64 \n",
      " 12  job_level                   1614 non-null   int64 \n",
      " 13  job_role                    1614 non-null   object\n",
      " 14  job_satisfaction            1614 non-null   int64 \n",
      " 15  marital_status              963 non-null    object\n",
      " 16  monthly_income              1614 non-null   int64 \n",
      " 17  monthly_rate                1614 non-null   int64 \n",
      " 18  num_companies_worked        1614 non-null   int64 \n",
      " 19  overtime                    938 non-null    object\n",
      " 20  percent_salary_hike         1614 non-null   int64 \n",
      " 21  relationship_satisfaction   1614 non-null   int64 \n",
      " 22  stock_option_level          1614 non-null   int64 \n",
      " 23  total_working_years         1614 non-null   int64 \n",
      " 24  training_times_last_year    1614 non-null   int64 \n",
      " 25  work_life_balance           1614 non-null   int64 \n",
      " 26  years_at_company            1614 non-null   int64 \n",
      " 27  years_since_last_promotion  1614 non-null   int64 \n",
      " 28  years_with_curr_manager     1614 non-null   int64 \n",
      " 29  year_birth                  1614 non-null   int64 \n",
      " 30  role_department             302 non-null    object\n",
      " 31  remote_work                 1614 non-null   object\n",
      "dtypes: int64(22), object(10)\n",
      "memory usage: 416.1+ KB\n"
     ]
    }
   ],
   "source": [
    "df.info()"
   ]
  },
  {
   "cell_type": "code",
   "execution_count": 4,
   "metadata": {},
   "outputs": [
    {
     "data": {
      "text/plain": [
       "<bound method Series.unique of 0                 NaN\n",
       "1                 NaN\n",
       "2       travel_rarely\n",
       "3       travel_rarely\n",
       "4                 NaN\n",
       "            ...      \n",
       "1609    travel_rarely\n",
       "1610       non_travel\n",
       "1611    travel_rarely\n",
       "1612       non_travel\n",
       "1613              NaN\n",
       "Name: business_travel, Length: 1614, dtype: object>"
      ]
     },
     "execution_count": 4,
     "metadata": {},
     "output_type": "execute_result"
    }
   ],
   "source": [
    "df[\"business_travel\"].unique"
   ]
  },
  {
   "cell_type": "code",
   "execution_count": 5,
   "metadata": {},
   "outputs": [
    {
     "data": {
      "text/plain": [
       "dtype('O')"
      ]
     },
     "execution_count": 5,
     "metadata": {},
     "output_type": "execute_result"
    }
   ],
   "source": [
    "df[\"business_travel\"].dtype"
   ]
  },
  {
   "cell_type": "code",
   "execution_count": 9,
   "metadata": {},
   "outputs": [
    {
     "data": {
      "text/plain": [
       "dtype('int64')"
      ]
     },
     "execution_count": 9,
     "metadata": {},
     "output_type": "execute_result"
    }
   ],
   "source": [
    "df[\"age\"].dtype"
   ]
  },
  {
   "cell_type": "code",
   "execution_count": 6,
   "metadata": {},
   "outputs": [],
   "source": [
    "df[\"business_travel\"] = df[\"business_travel\"].fillna('n/a')"
   ]
  },
  {
   "cell_type": "code",
   "execution_count": 7,
   "metadata": {},
   "outputs": [
    {
     "name": "stdout",
     "output_type": "stream",
     "text": [
      "<class 'pandas.core.frame.DataFrame'>\n",
      "Index: 1614 entries, 0 to 1613\n",
      "Data columns (total 33 columns):\n",
      " #   Column                      Non-Null Count  Dtype \n",
      "---  ------                      --------------  ----- \n",
      " 0   age                         1614 non-null   int64 \n",
      " 1   attrition                   1614 non-null   object\n",
      " 2   business_travel             1614 non-null   object\n",
      " 3   daily_rate                  1614 non-null   int64 \n",
      " 4   department                  302 non-null    object\n",
      " 5   distance_from_home          1614 non-null   int64 \n",
      " 6   education                   1614 non-null   int64 \n",
      " 7   education_field             869 non-null    object\n",
      " 8   employee_number             1614 non-null   int64 \n",
      " 9   environment_satisfaction    1614 non-null   int64 \n",
      " 10  gender                      1614 non-null   object\n",
      " 11  hourly_rate                 1614 non-null   int64 \n",
      " 12  job_involvement             1614 non-null   int64 \n",
      " 13  job_level                   1614 non-null   int64 \n",
      " 14  job_role                    1614 non-null   object\n",
      " 15  job_satisfaction            1614 non-null   int64 \n",
      " 16  marital_status              963 non-null    object\n",
      " 17  monthly_income              1614 non-null   int64 \n",
      " 18  monthly_rate                1614 non-null   int64 \n",
      " 19  num_companies_worked        1614 non-null   int64 \n",
      " 20  overtime                    938 non-null    object\n",
      " 21  percent_salary_hike         1614 non-null   int64 \n",
      " 22  relationship_satisfaction   1614 non-null   int64 \n",
      " 23  stock_option_level          1614 non-null   int64 \n",
      " 24  total_working_years         1614 non-null   int64 \n",
      " 25  training_times_last_year    1614 non-null   int64 \n",
      " 26  work_life_balance           1614 non-null   int64 \n",
      " 27  years_at_company            1614 non-null   int64 \n",
      " 28  years_since_last_promotion  1614 non-null   int64 \n",
      " 29  years_with_curr_manager     1614 non-null   int64 \n",
      " 30  year_birth                  1614 non-null   int64 \n",
      " 31  role_department             302 non-null    object\n",
      " 32  remote_work                 1614 non-null   object\n",
      "dtypes: int64(23), object(10)\n",
      "memory usage: 428.7+ KB\n"
     ]
    }
   ],
   "source": [
    "df.info()"
   ]
  },
  {
   "cell_type": "code",
   "execution_count": 8,
   "metadata": {},
   "outputs": [],
   "source": [
    "df[\"department\"] = df[\"department\"].fillna('n/a')"
   ]
  },
  {
   "cell_type": "code",
   "execution_count": 9,
   "metadata": {},
   "outputs": [],
   "source": [
    "df[\"education_field\"] = df[\"education_field\"].fillna('n/a')"
   ]
  },
  {
   "cell_type": "code",
   "execution_count": 10,
   "metadata": {},
   "outputs": [],
   "source": [
    "df[\"marital_status\"] = df[\"marital_status\"].fillna('n/a')"
   ]
  },
  {
   "cell_type": "code",
   "execution_count": 13,
   "metadata": {},
   "outputs": [],
   "source": [
    "df[\"role_department\"] = df[\"role_department\"].fillna('n/a')"
   ]
  },
  {
   "cell_type": "code",
   "execution_count": 15,
   "metadata": {},
   "outputs": [],
   "source": [
    "df[\"overtime\"] = df[\"overtime\"].fillna('n/a')"
   ]
  },
  {
   "cell_type": "code",
   "execution_count": 16,
   "metadata": {},
   "outputs": [
    {
     "name": "stdout",
     "output_type": "stream",
     "text": [
      "<class 'pandas.core.frame.DataFrame'>\n",
      "Index: 1614 entries, 0 to 1613\n",
      "Data columns (total 33 columns):\n",
      " #   Column                      Non-Null Count  Dtype \n",
      "---  ------                      --------------  ----- \n",
      " 0   age                         1614 non-null   int64 \n",
      " 1   attrition                   1614 non-null   object\n",
      " 2   business_travel             1614 non-null   object\n",
      " 3   daily_rate                  1614 non-null   int64 \n",
      " 4   department                  1614 non-null   object\n",
      " 5   distance_from_home          1614 non-null   int64 \n",
      " 6   education                   1614 non-null   int64 \n",
      " 7   education_field             1614 non-null   object\n",
      " 8   employee_number             1614 non-null   int64 \n",
      " 9   environment_satisfaction    1614 non-null   int64 \n",
      " 10  gender                      1614 non-null   object\n",
      " 11  hourly_rate                 1614 non-null   int64 \n",
      " 12  job_involvement             1614 non-null   int64 \n",
      " 13  job_level                   1614 non-null   int64 \n",
      " 14  job_role                    1614 non-null   object\n",
      " 15  job_satisfaction            1614 non-null   int64 \n",
      " 16  marital_status              1614 non-null   object\n",
      " 17  monthly_income              1614 non-null   int64 \n",
      " 18  monthly_rate                1614 non-null   int64 \n",
      " 19  num_companies_worked        1614 non-null   int64 \n",
      " 20  overtime                    1614 non-null   object\n",
      " 21  percent_salary_hike         1614 non-null   int64 \n",
      " 22  relationship_satisfaction   1614 non-null   int64 \n",
      " 23  stock_option_level          1614 non-null   int64 \n",
      " 24  total_working_years         1614 non-null   int64 \n",
      " 25  training_times_last_year    1614 non-null   int64 \n",
      " 26  work_life_balance           1614 non-null   int64 \n",
      " 27  years_at_company            1614 non-null   int64 \n",
      " 28  years_since_last_promotion  1614 non-null   int64 \n",
      " 29  years_with_curr_manager     1614 non-null   int64 \n",
      " 30  year_birth                  1614 non-null   int64 \n",
      " 31  role_department             1614 non-null   object\n",
      " 32  remote_work                 1614 non-null   object\n",
      "dtypes: int64(23), object(10)\n",
      "memory usage: 428.7+ KB\n"
     ]
    }
   ],
   "source": [
    "df.info()"
   ]
  },
  {
   "cell_type": "code",
   "execution_count": 17,
   "metadata": {},
   "outputs": [],
   "source": [
    "df.to_csv('datos_limpios.csv', index=False)"
   ]
  },
  {
   "cell_type": "code",
   "execution_count": 19,
   "metadata": {},
   "outputs": [
    {
     "data": {
      "text/plain": [
       "Index(['age', 'attrition', 'business_travel', 'daily_rate', 'department',\n",
       "       'distance_from_home', 'education', 'education_field', 'employee_number',\n",
       "       'environment_satisfaction', 'gender', 'hourly_rate', 'job_involvement',\n",
       "       'job_level', 'job_role', 'job_satisfaction', 'marital_status',\n",
       "       'monthly_income', 'monthly_rate', 'num_companies_worked', 'overtime',\n",
       "       'percent_salary_hike', 'relationship_satisfaction',\n",
       "       'stock_option_level', 'total_working_years', 'training_times_last_year',\n",
       "       'work_life_balance', 'years_at_company', 'years_since_last_promotion',\n",
       "       'years_with_curr_manager', 'year_birth', 'role_department',\n",
       "       'remote_work'],\n",
       "      dtype='object')"
      ]
     },
     "execution_count": 19,
     "metadata": {},
     "output_type": "execute_result"
    }
   ],
   "source": [
    "df.columns"
   ]
  },
  {
   "cell_type": "code",
   "execution_count": 21,
   "metadata": {},
   "outputs": [
    {
     "data": {
      "text/plain": [
       "0       51\n",
       "1       52\n",
       "2       42\n",
       "3       47\n",
       "4       46\n",
       "        ..\n",
       "1609    36\n",
       "1610    45\n",
       "1611    39\n",
       "1612    36\n",
       "1613    46\n",
       "Name: age, Length: 1614, dtype: int64"
      ]
     },
     "execution_count": 21,
     "metadata": {},
     "output_type": "execute_result"
    }
   ],
   "source": [
    "df[\"age\"].astype(\"int64\")"
   ]
  }
 ],
 "metadata": {
  "kernelspec": {
   "display_name": "Python 3",
   "language": "python",
   "name": "python3"
  },
  "language_info": {
   "codemirror_mode": {
    "name": "ipython",
    "version": 3
   },
   "file_extension": ".py",
   "mimetype": "text/x-python",
   "name": "python",
   "nbconvert_exporter": "python",
   "pygments_lexer": "ipython3",
   "version": "3.12.3"
  }
 },
 "nbformat": 4,
 "nbformat_minor": 2
}
