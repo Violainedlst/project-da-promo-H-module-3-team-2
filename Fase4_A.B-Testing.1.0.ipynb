{
 "cells": [
  {
   "cell_type": "markdown",
   "metadata": {},
   "source": [
    "## **Guía Inicial AB-Testing**\n",
    "\n",
    "### **1. Librerías:**\n",
    "\n",
    "Para realizar el análisis, necesitamos las siguientes librerías de Python:"
   ]
  },
  {
   "cell_type": "code",
   "execution_count": 8,
   "metadata": {},
   "outputs": [],
   "source": [
    "import pandas as pd\n",
    "import numpy as np\n",
    "from sklearn.impute import SimpleImputer\n",
    "import seaborn as sns\n",
    "import matplotlib.pyplot as plt\n",
    "from scipy.stats import norm\n",
    "from scipy.stats import chi2_contingency\n",
    "from scipy.stats import ttest_ind"
   ]
  },
  {
   "cell_type": "markdown",
   "metadata": {},
   "source": [
    "### **2. Carga de datos:**\n",
    "\n",
    "Cargamos el dataset CSV en un DataFrame de Pandas:"
   ]
  },
  {
   "cell_type": "code",
   "execution_count": null,
   "metadata": {},
   "outputs": [],
   "source": [
    "# Cargamos el dataset CSV\n",
    "data = pd.read_csv(\"HR_RAW_DATA_FINAL.csv\")"
   ]
  },
  {
   "cell_type": "markdown",
   "metadata": {},
   "source": [
    "### **3. Creación de los grupos:**\n",
    "\n",
    "Creamos dos nuevos DataFrames, uno para el grupo A (Control) y otro para el grupo B:"
   ]
  },
  {
   "cell_type": "code",
   "execution_count": null,
   "metadata": {},
   "outputs": [],
   "source": [
    "# Creamos el grupo A (Control)\n",
    "grupo_a = data[data[\"Employee Satisfaction\"] >= 3]\n",
    "\n",
    "# Creamos el grupo B (Variante)\n",
    "grupo_b = data[data[\"Employee Satisfaction\"] < 3]"
   ]
  },
  {
   "cell_type": "markdown",
   "metadata": {},
   "source": [
    "### **4. Cálculo de la tasa de rotación:**\n",
    "\n",
    "Calculamos la tasa de rotación de empleados en cada grupo:"
   ]
  },
  {
   "cell_type": "code",
   "execution_count": null,
   "metadata": {},
   "outputs": [],
   "source": [
    "# Tasa de rotación en el grupo A\n",
    "tasa_rotacion_a = (\n",
    "    grupo_a[\"Attrition\"] == \"Yes\"\n",
    ").sum() / len(grupo_a) * 100\n",
    "\n",
    "# Tasa de rotación en el grupo B\n",
    "tasa_rotacion_b = (\n",
    "    grupo_b[\"Attrition\"] == \"Yes\"\n",
    ").sum() / len(grupo_b) * 100"
   ]
  },
  {
   "cell_type": "markdown",
   "metadata": {},
   "source": [
    "### **5. Análisis estadístico:**\n",
    "\n",
    "Realizamos un análisis estadístico para determinar si hay una diferencia significativa en la tasa de rotación de empleados entre los grupos A y B. Utilizaremos la prueba t de Student:"
   ]
  },
  {
   "cell_type": "code",
   "execution_count": null,
   "metadata": {},
   "outputs": [],
   "source": [
    "# Prueba t de Student\n",
    "t, p = ttest_ind(grupo_a[\"Attrition\"], grupo_b[\"Attrition\"])\n",
    "\n",
    "# Interpretación de los resultados\n",
    "if p < 0.05:\n",
    "    print(\"Existe una diferencia significativa en la tasa de rotación de empleados entre los grupos A y B (p < 0.05)\")\n",
    "else:\n",
    "    print(\"No existe una diferencia significativa en la tasa de rotación de empleados entre los grupos A y B (p >= 0.05)\")"
   ]
  },
  {
   "cell_type": "markdown",
   "metadata": {},
   "source": [
    "### **6. Análisis de los resultados:**\n",
    "\n",
    "Analizamos los resultados del análisis estadístico para determinar la magnitud de la relación entre el nivel de satisfacción en el trabajo y la rotación de empleados. En este caso, podemos utilizar la diferencia de medias:"
   ]
  },
  {
   "cell_type": "code",
   "execution_count": null,
   "metadata": {},
   "outputs": [],
   "source": [
    "# Diferencia de medias\n",
    "diferencia_medias = tasa_rotacion_a - tasa_rotacion_b\n",
    "\n",
    "# Interpretación de la diferencia de medias\n",
    "if diferencia_medias > 0:\n",
    "    print(\n",
    "        \"Los empleados con un nivel de satisfacción en el trabajo más bajo tienen una mayor tasa de rotación de empleados (diferencia de medias:\",\n",
    "        diferencia_medias,\n",
    "        \"%)\",\n",
    "    )\n",
    "else:\n",
    "    print(\n",
    "        \"Los empleados con un nivel de satisfacción en el trabajo más alto tienen una mayor tasa de rotación de empleados (diferencia de medias:\",\n",
    "        diferencia_medias,\n",
    "        \"%)\",\n",
    "    )"
   ]
  },
  {
   "cell_type": "markdown",
   "metadata": {},
   "source": [
    "### **7. Conclusiones:**\n",
    "\n",
    "El código anterior realiza un A/B Testing para determinar si existe una relación entre el nivel de satisfacción en el trabajo y la rotación de empleados en la empresa. El análisis muestra que:\n",
    "\n",
    "* Existe una diferencia significativa en la tasa de rotación de empleados entre los grupos A y B (p < 0.05).\n",
    "* Los empleados con un nivel de satisfacción en el trabajo más bajo tienen una mayor tasa de rotación de empleados (diferencia de medias: X %).\n",
    "\n",
    "_ _ _\n",
    "\n",
    "### **8. Recomendaciones:**\n",
    "\n",
    "* Se recomienda realizar un análisis más profundo para identificar otras variables que puedan afectar a la tasa de rotación de empleados.\n",
    "* Se recomienda implementar medidas para mejorar el nivel de satisfacción en el trabajo de los empleados, lo que podría reducir la tasa de rotación de empleados."
   ]
  }
 ],
 "metadata": {
  "kernelspec": {
   "display_name": "base",
   "language": "python",
   "name": "python3"
  },
  "language_info": {
   "codemirror_mode": {
    "name": "ipython",
    "version": 3
   },
   "file_extension": ".py",
   "mimetype": "text/x-python",
   "name": "python",
   "nbconvert_exporter": "python",
   "pygments_lexer": "ipython3",
   "version": "3.9.12"
  }
 },
 "nbformat": 4,
 "nbformat_minor": 2
}
